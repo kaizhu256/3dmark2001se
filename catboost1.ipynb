{
  "nbformat": 4,
  "nbformat_minor": 0,
  "metadata": {
    "colab": {
      "provenance": [],
      "authorship_tag": "ABX9TyNiQ6QrM40J9kqQknU1PQXV",
      "include_colab_link": true
    },
    "kernelspec": {
      "name": "python3",
      "display_name": "Python 3"
    },
    "language_info": {
      "name": "python"
    },
    "accelerator": "GPU",
    "gpuClass": "standard",
    "widgets": {
      "application/vnd.jupyter.widget-state+json": {
        "39b704bf02d04237ac9a2b2a83ecc5d9": {
          "model_module": "catboost-widget",
          "model_name": "CatboostWidgetModel",
          "model_module_version": "^1.0.0",
          "state": {
            "_dom_classes": [],
            "_model_module": "catboost-widget",
            "_model_module_version": "^1.0.0",
            "_model_name": "CatboostWidgetModel",
            "_view_count": null,
            "_view_module": "catboost-widget",
            "_view_module_version": "^1.0.0",
            "_view_name": "CatboostWidgetView",
            "data": {
              "catboost_info": {
                "path": "catboost_info",
                "name": "catboost_info",
                "content": {
                  "passed_iterations": 99,
                  "total_iterations": 100,
                  "data": {
                    "iterations": [
                      {
                        "learn": [
                          0.8571428571,
                          0.6258732037
                        ],
                        "iteration": 0,
                        "passed_time": 0.004304194044,
                        "remaining_time": 0.4261152104
                      },
                      {
                        "learn": [
                          0.8553259141,
                          0.5849627938
                        ],
                        "iteration": 1,
                        "passed_time": 0.007208823898,
                        "remaining_time": 0.353232371
                      },
                      {
                        "learn": [
                          0.8562300319,
                          0.5579025751
                        ],
                        "iteration": 2,
                        "passed_time": 0.01050000943,
                        "remaining_time": 0.3395003049
                      },
                      {
                        "learn": [
                          0.8576,
                          0.5378017379
                        ],
                        "iteration": 3,
                        "passed_time": 0.01361816244,
                        "remaining_time": 0.3268358985
                      },
                      {
                        "learn": [
                          0.8557692308,
                          0.5233997057
                        ],
                        "iteration": 4,
                        "passed_time": 0.01685670633,
                        "remaining_time": 0.3202774203
                      },
                      {
                        "learn": [
                          0.8539325843,
                          0.5145077299
                        ],
                        "iteration": 5,
                        "passed_time": 0.01906124952,
                        "remaining_time": 0.2986262425
                      },
                      {
                        "learn": [
                          0.8539325843,
                          0.5065866364
                        ],
                        "iteration": 6,
                        "passed_time": 0.0223133359,
                        "remaining_time": 0.2964486055
                      },
                      {
                        "learn": [
                          0.8483870968,
                          0.5034397988
                        ],
                        "iteration": 7,
                        "passed_time": 0.02478083088,
                        "remaining_time": 0.2849795552
                      },
                      {
                        "learn": [
                          0.8539325843,
                          0.4992194628
                        ],
                        "iteration": 8,
                        "passed_time": 0.02811482178,
                        "remaining_time": 0.2842720869
                      },
                      {
                        "learn": [
                          0.8576,
                          0.4942759493
                        ],
                        "iteration": 9,
                        "passed_time": 0.03096083905,
                        "remaining_time": 0.2786475514
                      },
                      {
                        "learn": [
                          0.8562300319,
                          0.4860585531
                        ],
                        "iteration": 10,
                        "passed_time": 0.03422780303,
                        "remaining_time": 0.2769340427
                      },
                      {
                        "learn": [
                          0.8566878981,
                          0.4817031526
                        ],
                        "iteration": 11,
                        "passed_time": 0.03743820777,
                        "remaining_time": 0.274546857
                      },
                      {
                        "learn": [
                          0.8566878981,
                          0.479334105
                        ],
                        "iteration": 12,
                        "passed_time": 0.04065171959,
                        "remaining_time": 0.2720538157
                      },
                      {
                        "learn": [
                          0.8566878981,
                          0.4760487503
                        ],
                        "iteration": 13,
                        "passed_time": 0.04391530238,
                        "remaining_time": 0.2697654289
                      },
                      {
                        "learn": [
                          0.8566878981,
                          0.4729295345
                        ],
                        "iteration": 14,
                        "passed_time": 0.04716289157,
                        "remaining_time": 0.2672563856
                      },
                      {
                        "learn": [
                          0.8566878981,
                          0.470535464
                        ],
                        "iteration": 15,
                        "passed_time": 0.05033333209,
                        "remaining_time": 0.2642499935
                      },
                      {
                        "learn": [
                          0.8548644338,
                          0.4669924548
                        ],
                        "iteration": 16,
                        "passed_time": 0.05352469026,
                        "remaining_time": 0.2613264289
                      },
                      {
                        "learn": [
                          0.8548644338,
                          0.4636638112
                        ],
                        "iteration": 17,
                        "passed_time": 0.05684626467,
                        "remaining_time": 0.2589663168
                      },
                      {
                        "learn": [
                          0.8548644338,
                          0.4591062597
                        ],
                        "iteration": 18,
                        "passed_time": 0.06036489588,
                        "remaining_time": 0.2573450824
                      },
                      {
                        "learn": [
                          0.8580542265,
                          0.4543949322
                        ],
                        "iteration": 19,
                        "passed_time": 0.06404000823,
                        "remaining_time": 0.2561600329
                      },
                      {
                        "learn": [
                          0.8634920635,
                          0.4501520978
                        ],
                        "iteration": 20,
                        "passed_time": 0.0678995336,
                        "remaining_time": 0.2554315788
                      },
                      {
                        "learn": [
                          0.8630573248,
                          0.445442144
                        ],
                        "iteration": 21,
                        "passed_time": 0.07189954607,
                        "remaining_time": 0.2549165724
                      },
                      {
                        "learn": [
                          0.8684627575,
                          0.4409367545
                        ],
                        "iteration": 22,
                        "passed_time": 0.07586021754,
                        "remaining_time": 0.2539668153
                      },
                      {
                        "learn": [
                          0.8684627575,
                          0.438900987
                        ],
                        "iteration": 23,
                        "passed_time": 0.08670250762,
                        "remaining_time": 0.2745579408
                      },
                      {
                        "learn": [
                          0.8612440191,
                          0.4363385129
                        ],
                        "iteration": 24,
                        "passed_time": 0.1039700989,
                        "remaining_time": 0.3119102967
                      },
                      {
                        "learn": [
                          0.8666666667,
                          0.4326116557
                        ],
                        "iteration": 25,
                        "passed_time": 0.1101029077,
                        "remaining_time": 0.3133698143
                      },
                      {
                        "learn": [
                          0.8694267516,
                          0.4281368952
                        ],
                        "iteration": 26,
                        "passed_time": 0.1141392927,
                        "remaining_time": 0.3085988285
                      },
                      {
                        "learn": [
                          0.8698412698,
                          0.4253178803
                        ],
                        "iteration": 27,
                        "passed_time": 0.1177202614,
                        "remaining_time": 0.3027092436
                      },
                      {
                        "learn": [
                          0.8662420382,
                          0.4237771139
                        ],
                        "iteration": 28,
                        "passed_time": 0.1214971349,
                        "remaining_time": 0.2974585027
                      },
                      {
                        "learn": [
                          0.8698412698,
                          0.4210220671
                        ],
                        "iteration": 29,
                        "passed_time": 0.1249592169,
                        "remaining_time": 0.291571506
                      },
                      {
                        "learn": [
                          0.8748019017,
                          0.4189544455
                        ],
                        "iteration": 30,
                        "passed_time": 0.1283821238,
                        "remaining_time": 0.2857537594
                      },
                      {
                        "learn": [
                          0.8738170347,
                          0.4158323339
                        ],
                        "iteration": 31,
                        "passed_time": 0.1322867052,
                        "remaining_time": 0.2811092484
                      },
                      {
                        "learn": [
                          0.8734177215,
                          0.4129532491
                        ],
                        "iteration": 32,
                        "passed_time": 0.1358074602,
                        "remaining_time": 0.2757302979
                      },
                      {
                        "learn": [
                          0.8751974724,
                          0.4109073091
                        ],
                        "iteration": 33,
                        "passed_time": 0.1392439246,
                        "remaining_time": 0.27029703
                      },
                      {
                        "learn": [
                          0.8751974724,
                          0.4092199321
                        ],
                        "iteration": 34,
                        "passed_time": 0.1427168892,
                        "remaining_time": 0.2650456515
                      },
                      {
                        "learn": [
                          0.8769716088,
                          0.4075678248
                        ],
                        "iteration": 35,
                        "passed_time": 0.1462083596,
                        "remaining_time": 0.2599259726
                      },
                      {
                        "learn": [
                          0.8765822785,
                          0.4038990327
                        ],
                        "iteration": 36,
                        "passed_time": 0.1497178291,
                        "remaining_time": 0.2549249522
                      },
                      {
                        "learn": [
                          0.8765822785,
                          0.4008014985
                        ],
                        "iteration": 37,
                        "passed_time": 0.1531942618,
                        "remaining_time": 0.2499485324
                      },
                      {
                        "learn": [
                          0.8789808917,
                          0.3961186096
                        ],
                        "iteration": 38,
                        "passed_time": 0.1566813849,
                        "remaining_time": 0.2450657559
                      },
                      {
                        "learn": [
                          0.8789808917,
                          0.3942416671
                        ],
                        "iteration": 39,
                        "passed_time": 0.1600469453,
                        "remaining_time": 0.2400704179
                      },
                      {
                        "learn": [
                          0.8807631161,
                          0.3923398132
                        ],
                        "iteration": 40,
                        "passed_time": 0.1636518268,
                        "remaining_time": 0.2354989703
                      },
                      {
                        "learn": [
                          0.8839427663,
                          0.3910143776
                        ],
                        "iteration": 41,
                        "passed_time": 0.1698902989,
                        "remaining_time": 0.2346104128
                      },
                      {
                        "learn": [
                          0.8853503185,
                          0.3876137838
                        ],
                        "iteration": 42,
                        "passed_time": 0.173785209,
                        "remaining_time": 0.2303664399
                      },
                      {
                        "learn": [
                          0.8881789137,
                          0.3849059242
                        ],
                        "iteration": 43,
                        "passed_time": 0.1772344167,
                        "remaining_time": 0.2255710759
                      },
                      {
                        "learn": [
                          0.8881789137,
                          0.3827607463
                        ],
                        "iteration": 44,
                        "passed_time": 0.1806140141,
                        "remaining_time": 0.2207504617
                      },
                      {
                        "learn": [
                          0.8896,
                          0.3786555752
                        ],
                        "iteration": 45,
                        "passed_time": 0.1890899017,
                        "remaining_time": 0.221975102
                      },
                      {
                        "learn": [
                          0.8913738019,
                          0.3746371304
                        ],
                        "iteration": 46,
                        "passed_time": 0.1926046599,
                        "remaining_time": 0.2171924888
                      },
                      {
                        "learn": [
                          0.8928,
                          0.3728368532
                        ],
                        "iteration": 47,
                        "passed_time": 0.1959568714,
                        "remaining_time": 0.2122866106
                      },
                      {
                        "learn": [
                          0.8928,
                          0.3711486594
                        ],
                        "iteration": 48,
                        "passed_time": 0.199394524,
                        "remaining_time": 0.207533076
                      },
                      {
                        "learn": [
                          0.8913738019,
                          0.3693606708
                        ],
                        "iteration": 49,
                        "passed_time": 0.2029212373,
                        "remaining_time": 0.2029212373
                      },
                      {
                        "learn": [
                          0.8942307692,
                          0.3659875874
                        ],
                        "iteration": 50,
                        "passed_time": 0.2064105856,
                        "remaining_time": 0.1983160528
                      },
                      {
                        "learn": [
                          0.9006410256,
                          0.3639808896
                        ],
                        "iteration": 51,
                        "passed_time": 0.209685452,
                        "remaining_time": 0.1935558019
                      },
                      {
                        "learn": [
                          0.9020866774,
                          0.361015524
                        ],
                        "iteration": 52,
                        "passed_time": 0.2129174554,
                        "remaining_time": 0.1888135925
                      },
                      {
                        "learn": [
                          0.9035369775,
                          0.3589316041
                        ],
                        "iteration": 53,
                        "passed_time": 0.2161910417,
                        "remaining_time": 0.1841627393
                      },
                      {
                        "learn": [
                          0.9020866774,
                          0.3549977323
                        ],
                        "iteration": 54,
                        "passed_time": 0.2287994564,
                        "remaining_time": 0.1871995552
                      },
                      {
                        "learn": [
                          0.9049919485,
                          0.3529235023
                        ],
                        "iteration": 55,
                        "passed_time": 0.2320318643,
                        "remaining_time": 0.1823107505
                      },
                      {
                        "learn": [
                          0.9064516129,
                          0.3514741401
                        ],
                        "iteration": 56,
                        "passed_time": 0.2352824847,
                        "remaining_time": 0.1774938042
                      },
                      {
                        "learn": [
                          0.9079159935,
                          0.3483680298
                        ],
                        "iteration": 57,
                        "passed_time": 0.2385130384,
                        "remaining_time": 0.1727163381
                      },
                      {
                        "learn": [
                          0.9093851133,
                          0.3463475582
                        ],
                        "iteration": 58,
                        "passed_time": 0.2417796805,
                        "remaining_time": 0.1680163881
                      },
                      {
                        "learn": [
                          0.9093851133,
                          0.3438734068
                        ],
                        "iteration": 59,
                        "passed_time": 0.2450057638,
                        "remaining_time": 0.1633371759
                      },
                      {
                        "learn": [
                          0.9111470113,
                          0.3407698954
                        ],
                        "iteration": 60,
                        "passed_time": 0.2482882473,
                        "remaining_time": 0.1587416663
                      },
                      {
                        "learn": [
                          0.9111470113,
                          0.3383760847
                        ],
                        "iteration": 61,
                        "passed_time": 0.2515235891,
                        "remaining_time": 0.1541596191
                      },
                      {
                        "learn": [
                          0.9108589951,
                          0.3359612606
                        ],
                        "iteration": 62,
                        "passed_time": 0.2547936892,
                        "remaining_time": 0.1496407381
                      },
                      {
                        "learn": [
                          0.9158576052,
                          0.3332569651
                        ],
                        "iteration": 63,
                        "passed_time": 0.2580667164,
                        "remaining_time": 0.145162528
                      },
                      {
                        "learn": [
                          0.9143780291,
                          0.331386
                        ],
                        "iteration": 64,
                        "passed_time": 0.2613922812,
                        "remaining_time": 0.1407496899
                      },
                      {
                        "learn": [
                          0.9155844156,
                          0.327683646
                        ],
                        "iteration": 65,
                        "passed_time": 0.2646870211,
                        "remaining_time": 0.13635392
                      },
                      {
                        "learn": [
                          0.9138211382,
                          0.3267088656
                        ],
                        "iteration": 66,
                        "passed_time": 0.2678848616,
                        "remaining_time": 0.13194329
                      },
                      {
                        "learn": [
                          0.9155844156,
                          0.3251049478
                        ],
                        "iteration": 67,
                        "passed_time": 0.2711846574,
                        "remaining_time": 0.1276163094
                      },
                      {
                        "learn": [
                          0.9173419773,
                          0.3240839083
                        ],
                        "iteration": 68,
                        "passed_time": 0.2744319306,
                        "remaining_time": 0.1232955051
                      },
                      {
                        "learn": [
                          0.9138211382,
                          0.3213425982
                        ],
                        "iteration": 69,
                        "passed_time": 0.2776632512,
                        "remaining_time": 0.1189985362
                      },
                      {
                        "learn": [
                          0.9173419773,
                          0.3200196501
                        ],
                        "iteration": 70,
                        "passed_time": 0.2808872139,
                        "remaining_time": 0.1147285803
                      },
                      {
                        "learn": [
                          0.9141004862,
                          0.3182964835
                        ],
                        "iteration": 71,
                        "passed_time": 0.2841168875,
                        "remaining_time": 0.1104899007
                      },
                      {
                        "learn": [
                          0.9155844156,
                          0.3165395324
                        ],
                        "iteration": 72,
                        "passed_time": 0.2873585485,
                        "remaining_time": 0.1062832988
                      },
                      {
                        "learn": [
                          0.9155844156,
                          0.3148764357
                        ],
                        "iteration": 73,
                        "passed_time": 0.2906248392,
                        "remaining_time": 0.10211143
                      },
                      {
                        "learn": [
                          0.9155844156,
                          0.3134900764
                        ],
                        "iteration": 74,
                        "passed_time": 0.2939821011,
                        "remaining_time": 0.09799403372
                      },
                      {
                        "learn": [
                          0.9173419773,
                          0.3126312776
                        ],
                        "iteration": 75,
                        "passed_time": 0.2972534769,
                        "remaining_time": 0.09386951901
                      },
                      {
                        "learn": [
                          0.9173419773,
                          0.3110978064
                        ],
                        "iteration": 76,
                        "passed_time": 0.3004907447,
                        "remaining_time": 0.0897569757
                      },
                      {
                        "learn": [
                          0.9220779221,
                          0.3099233808
                        ],
                        "iteration": 77,
                        "passed_time": 0.3038837451,
                        "remaining_time": 0.08571079989
                      },
                      {
                        "learn": [
                          0.9190938511,
                          0.3080815967
                        ],
                        "iteration": 78,
                        "passed_time": 0.3071670818,
                        "remaining_time": 0.08165200908
                      },
                      {
                        "learn": [
                          0.9190938511,
                          0.3073886955
                        ],
                        "iteration": 79,
                        "passed_time": 0.3104258801,
                        "remaining_time": 0.07760647002
                      },
                      {
                        "learn": [
                          0.9225806452,
                          0.3063712387
                        ],
                        "iteration": 80,
                        "passed_time": 0.3139617145,
                        "remaining_time": 0.07364534044
                      },
                      {
                        "learn": [
                          0.9225806452,
                          0.3054380022
                        ],
                        "iteration": 81,
                        "passed_time": 0.3174106022,
                        "remaining_time": 0.06967549805
                      },
                      {
                        "learn": [
                          0.9240710824,
                          0.3034782688
                        ],
                        "iteration": 82,
                        "passed_time": 0.3205766096,
                        "remaining_time": 0.06566026944
                      },
                      {
                        "learn": [
                          0.9270664506,
                          0.3021558961
                        ],
                        "iteration": 83,
                        "passed_time": 0.3237382222,
                        "remaining_time": 0.06166442327
                      },
                      {
                        "learn": [
                          0.9270664506,
                          0.3016373015
                        ],
                        "iteration": 84,
                        "passed_time": 0.326925725,
                        "remaining_time": 0.057692775
                      },
                      {
                        "learn": [
                          0.9285714286,
                          0.2988840368
                        ],
                        "iteration": 85,
                        "passed_time": 0.3301599017,
                        "remaining_time": 0.05374696074
                      },
                      {
                        "learn": [
                          0.9285714286,
                          0.2980291733
                        ],
                        "iteration": 86,
                        "passed_time": 0.3332601073,
                        "remaining_time": 0.0497974873
                      },
                      {
                        "learn": [
                          0.9303079417,
                          0.2973542968
                        ],
                        "iteration": 87,
                        "passed_time": 0.33640142,
                        "remaining_time": 0.04587292091
                      },
                      {
                        "learn": [
                          0.9285714286,
                          0.2968442968
                        ],
                        "iteration": 88,
                        "passed_time": 0.3394926321,
                        "remaining_time": 0.04195976352
                      },
                      {
                        "learn": [
                          0.9285714286,
                          0.2958776469
                        ],
                        "iteration": 89,
                        "passed_time": 0.3425425299,
                        "remaining_time": 0.0380602811
                      },
                      {
                        "learn": [
                          0.9303079417,
                          0.2954001322
                        ],
                        "iteration": 90,
                        "passed_time": 0.3456421023,
                        "remaining_time": 0.03418438374
                      },
                      {
                        "learn": [
                          0.9303079417,
                          0.2944691048
                        ],
                        "iteration": 91,
                        "passed_time": 0.3487485216,
                        "remaining_time": 0.0303259584
                      },
                      {
                        "learn": [
                          0.9268292683,
                          0.2929752471
                        ],
                        "iteration": 92,
                        "passed_time": 0.3518390246,
                        "remaining_time": 0.02648250723
                      },
                      {
                        "learn": [
                          0.9303079417,
                          0.2918440176
                        ],
                        "iteration": 93,
                        "passed_time": 0.3549815301,
                        "remaining_time": 0.02265839554
                      },
                      {
                        "learn": [
                          0.9335494327,
                          0.2903737349
                        ],
                        "iteration": 94,
                        "passed_time": 0.3581688115,
                        "remaining_time": 0.01885099008
                      },
                      {
                        "learn": [
                          0.9350649351,
                          0.288903842
                        ],
                        "iteration": 95,
                        "passed_time": 0.3612906526,
                        "remaining_time": 0.01505377719
                      },
                      {
                        "learn": [
                          0.9333333333,
                          0.2870327655
                        ],
                        "iteration": 96,
                        "passed_time": 0.364604255,
                        "remaining_time": 0.01127642026
                      },
                      {
                        "learn": [
                          0.9333333333,
                          0.2856640595
                        ],
                        "iteration": 97,
                        "passed_time": 0.3678003226,
                        "remaining_time": 0.007506129033
                      },
                      {
                        "learn": [
                          0.9333333333,
                          0.2844195958
                        ],
                        "iteration": 98,
                        "passed_time": 0.3709377004,
                        "remaining_time": 0.003746845459
                      },
                      {
                        "learn": [
                          0.9333333333,
                          0.2837075932
                        ],
                        "iteration": 99,
                        "passed_time": 0.3740627435,
                        "remaining_time": 0
                      }
                    ],
                    "meta": {
                      "test_sets": [],
                      "test_metrics": [],
                      "learn_metrics": [
                        {
                          "best_value": "Max",
                          "name": "F1"
                        },
                        {
                          "best_value": "Min",
                          "name": "Logloss"
                        }
                      ],
                      "launch_mode": "Train",
                      "parameters": "",
                      "iteration_count": 100,
                      "learn_sets": [
                        "learn"
                      ],
                      "name": "experiment"
                    }
                  }
                }
              }
            },
            "layout": "IPY_MODEL_684ca5fee77846af9b66833245c1738f"
          }
        }
      }
    }
  },
  "cells": [
    {
      "cell_type": "markdown",
      "metadata": {
        "id": "view-in-github",
        "colab_type": "text"
      },
      "source": [
        "<a href=\"https://colab.research.google.com/github/kaizhu256/3dmark2001se/blob/alpha/catboost1.ipynb\" target=\"_parent\"><img src=\"https://colab.research.google.com/assets/colab-badge.svg\" alt=\"Open In Colab\"/></a>"
      ]
    },
    {
      "cell_type": "code",
      "execution_count": null,
      "metadata": {
        "colab": {
          "base_uri": "https://localhost:8080/"
        },
        "id": "UuSE5YjJ_xcH",
        "outputId": "e841d597-f51b-4a12-8650-a68b9b2d2c34"
      },
      "outputs": [
        {
          "output_type": "stream",
          "name": "stdout",
          "text": [
            "Looking in indexes: https://pypi.org/simple, https://us-python.pkg.dev/colab-wheels/public/simple/\n",
            "Collecting catboost\n",
            "  Downloading catboost-1.1.1-cp39-none-manylinux1_x86_64.whl (76.6 MB)\n",
            "\u001b[2K     \u001b[90m━━━━━━━━━━━━━━━━━━━━━━━━━━━━━━━━━━━━━━━━\u001b[0m \u001b[32m76.6/76.6 MB\u001b[0m \u001b[31m10.4 MB/s\u001b[0m eta \u001b[36m0:00:00\u001b[0m\n",
            "\u001b[?25hRequirement already satisfied: six in /usr/local/lib/python3.9/dist-packages (from catboost) (1.16.0)\n",
            "Requirement already satisfied: plotly in /usr/local/lib/python3.9/dist-packages (from catboost) (5.13.1)\n",
            "Requirement already satisfied: scipy in /usr/local/lib/python3.9/dist-packages (from catboost) (1.10.1)\n",
            "Requirement already satisfied: matplotlib in /usr/local/lib/python3.9/dist-packages (from catboost) (3.7.1)\n",
            "Requirement already satisfied: pandas>=0.24.0 in /usr/local/lib/python3.9/dist-packages (from catboost) (1.4.4)\n",
            "Requirement already satisfied: graphviz in /usr/local/lib/python3.9/dist-packages (from catboost) (0.20.1)\n",
            "Requirement already satisfied: numpy>=1.16.0 in /usr/local/lib/python3.9/dist-packages (from catboost) (1.22.4)\n",
            "Requirement already satisfied: python-dateutil>=2.8.1 in /usr/local/lib/python3.9/dist-packages (from pandas>=0.24.0->catboost) (2.8.2)\n",
            "Requirement already satisfied: pytz>=2020.1 in /usr/local/lib/python3.9/dist-packages (from pandas>=0.24.0->catboost) (2022.7.1)\n",
            "Requirement already satisfied: packaging>=20.0 in /usr/local/lib/python3.9/dist-packages (from matplotlib->catboost) (23.0)\n",
            "Requirement already satisfied: importlib-resources>=3.2.0 in /usr/local/lib/python3.9/dist-packages (from matplotlib->catboost) (5.12.0)\n",
            "Requirement already satisfied: kiwisolver>=1.0.1 in /usr/local/lib/python3.9/dist-packages (from matplotlib->catboost) (1.4.4)\n",
            "Requirement already satisfied: pillow>=6.2.0 in /usr/local/lib/python3.9/dist-packages (from matplotlib->catboost) (8.4.0)\n",
            "Requirement already satisfied: fonttools>=4.22.0 in /usr/local/lib/python3.9/dist-packages (from matplotlib->catboost) (4.39.2)\n",
            "Requirement already satisfied: cycler>=0.10 in /usr/local/lib/python3.9/dist-packages (from matplotlib->catboost) (0.11.0)\n",
            "Requirement already satisfied: contourpy>=1.0.1 in /usr/local/lib/python3.9/dist-packages (from matplotlib->catboost) (1.0.7)\n",
            "Requirement already satisfied: pyparsing>=2.3.1 in /usr/local/lib/python3.9/dist-packages (from matplotlib->catboost) (3.0.9)\n",
            "Requirement already satisfied: tenacity>=6.2.0 in /usr/local/lib/python3.9/dist-packages (from plotly->catboost) (8.2.2)\n",
            "Requirement already satisfied: zipp>=3.1.0 in /usr/local/lib/python3.9/dist-packages (from importlib-resources>=3.2.0->matplotlib->catboost) (3.15.0)\n",
            "Installing collected packages: catboost\n",
            "Successfully installed catboost-1.1.1\n"
          ]
        }
      ],
      "source": [
        "!pip install catboost"
      ]
    },
    {
      "cell_type": "code",
      "source": [
        "import numpy as np\n",
        "import pandas as pd\n",
        "import seaborn as sns\n",
        "import statsmodels.api as sm\n",
        "from catboost import CatBoostClassifier\n",
        "from scipy import stats\n",
        "from sklearn.model_selection import train_test_split\n",
        "from sklearn.metrics import f1_score, accuracy_score"
      ],
      "metadata": {
        "id": "o8bDvKC8rXoJ"
      },
      "execution_count": null,
      "outputs": []
    },
    {
      "cell_type": "code",
      "source": [
        "def resumetable(df):\n",
        "    print(f\"Dataset Shape: {df.shape}\")\n",
        "    summary = pd.DataFrame(df.dtypes, columns = [\"dtypes\"])\n",
        "    summary = summary.reset_index()\n",
        "    summary[\"Name\"] = summary[\"index\"]\n",
        "    summary = summary[[\"Name\", \"dtypes\"]]\n",
        "    summary[\"Missing\"] = df.isnull().sum().values\n",
        "    summary[\"Uniques\"] = df.nunique().values\n",
        "    summary[\"First Value\"] = df.loc[0].values\n",
        "    summary[\"Second Value\"] = df.loc[1].values\n",
        "    return summary"
      ],
      "metadata": {
        "id": "UuVHGVc7r5KH"
      },
      "execution_count": null,
      "outputs": []
    },
    {
      "cell_type": "code",
      "source": [
        "file_loc = \"https://raw.githubusercontent.com/bhattbhavesh91/catboost-tutorial/master/data.csv\"\n",
        "df = pd.read_csv(file_loc)\n",
        "df.head()"
      ],
      "metadata": {
        "colab": {
          "base_uri": "https://localhost:8080/",
          "height": 206
        },
        "id": "zkuIM4N2srB0",
        "outputId": "bc7b540f-600e-4d2e-d491-b650b5fa5a84"
      },
      "execution_count": null,
      "outputs": [
        {
          "output_type": "execute_result",
          "data": {
            "text/plain": [
              "   ApplicantIncome  CoapplicantIncome  ...  Credit_History  Loan_Status\n",
              "0           5849.0                0.0  ...             Yes            1\n",
              "1           4583.0             1508.0  ...             Yes            0\n",
              "2           3000.0                0.0  ...             Yes            1\n",
              "3           2583.0             2358.0  ...             Yes            1\n",
              "4           6000.0                0.0  ...             Yes            1\n",
              "\n",
              "[5 rows x 6 columns]"
            ],
            "text/html": [
              "\n",
              "  <div id=\"df-395ce26c-0c13-4bb2-8278-a61b41ca37cc\">\n",
              "    <div class=\"colab-df-container\">\n",
              "      <div>\n",
              "<style scoped>\n",
              "    .dataframe tbody tr th:only-of-type {\n",
              "        vertical-align: middle;\n",
              "    }\n",
              "\n",
              "    .dataframe tbody tr th {\n",
              "        vertical-align: top;\n",
              "    }\n",
              "\n",
              "    .dataframe thead th {\n",
              "        text-align: right;\n",
              "    }\n",
              "</style>\n",
              "<table border=\"1\" class=\"dataframe\">\n",
              "  <thead>\n",
              "    <tr style=\"text-align: right;\">\n",
              "      <th></th>\n",
              "      <th>ApplicantIncome</th>\n",
              "      <th>CoapplicantIncome</th>\n",
              "      <th>LoanAmount</th>\n",
              "      <th>Loan_Amount_Term</th>\n",
              "      <th>Credit_History</th>\n",
              "      <th>Loan_Status</th>\n",
              "    </tr>\n",
              "  </thead>\n",
              "  <tbody>\n",
              "    <tr>\n",
              "      <th>0</th>\n",
              "      <td>5849.0</td>\n",
              "      <td>0.0</td>\n",
              "      <td>0.0</td>\n",
              "      <td>360.0</td>\n",
              "      <td>Yes</td>\n",
              "      <td>1</td>\n",
              "    </tr>\n",
              "    <tr>\n",
              "      <th>1</th>\n",
              "      <td>4583.0</td>\n",
              "      <td>1508.0</td>\n",
              "      <td>128.0</td>\n",
              "      <td>360.0</td>\n",
              "      <td>Yes</td>\n",
              "      <td>0</td>\n",
              "    </tr>\n",
              "    <tr>\n",
              "      <th>2</th>\n",
              "      <td>3000.0</td>\n",
              "      <td>0.0</td>\n",
              "      <td>66.0</td>\n",
              "      <td>360.0</td>\n",
              "      <td>Yes</td>\n",
              "      <td>1</td>\n",
              "    </tr>\n",
              "    <tr>\n",
              "      <th>3</th>\n",
              "      <td>2583.0</td>\n",
              "      <td>2358.0</td>\n",
              "      <td>120.0</td>\n",
              "      <td>360.0</td>\n",
              "      <td>Yes</td>\n",
              "      <td>1</td>\n",
              "    </tr>\n",
              "    <tr>\n",
              "      <th>4</th>\n",
              "      <td>6000.0</td>\n",
              "      <td>0.0</td>\n",
              "      <td>141.0</td>\n",
              "      <td>360.0</td>\n",
              "      <td>Yes</td>\n",
              "      <td>1</td>\n",
              "    </tr>\n",
              "  </tbody>\n",
              "</table>\n",
              "</div>\n",
              "      <button class=\"colab-df-convert\" onclick=\"convertToInteractive('df-395ce26c-0c13-4bb2-8278-a61b41ca37cc')\"\n",
              "              title=\"Convert this dataframe to an interactive table.\"\n",
              "              style=\"display:none;\">\n",
              "        \n",
              "  <svg xmlns=\"http://www.w3.org/2000/svg\" height=\"24px\"viewBox=\"0 0 24 24\"\n",
              "       width=\"24px\">\n",
              "    <path d=\"M0 0h24v24H0V0z\" fill=\"none\"/>\n",
              "    <path d=\"M18.56 5.44l.94 2.06.94-2.06 2.06-.94-2.06-.94-.94-2.06-.94 2.06-2.06.94zm-11 1L8.5 8.5l.94-2.06 2.06-.94-2.06-.94L8.5 2.5l-.94 2.06-2.06.94zm10 10l.94 2.06.94-2.06 2.06-.94-2.06-.94-.94-2.06-.94 2.06-2.06.94z\"/><path d=\"M17.41 7.96l-1.37-1.37c-.4-.4-.92-.59-1.43-.59-.52 0-1.04.2-1.43.59L10.3 9.45l-7.72 7.72c-.78.78-.78 2.05 0 2.83L4 21.41c.39.39.9.59 1.41.59.51 0 1.02-.2 1.41-.59l7.78-7.78 2.81-2.81c.8-.78.8-2.07 0-2.86zM5.41 20L4 18.59l7.72-7.72 1.47 1.35L5.41 20z\"/>\n",
              "  </svg>\n",
              "      </button>\n",
              "      \n",
              "  <style>\n",
              "    .colab-df-container {\n",
              "      display:flex;\n",
              "      flex-wrap:wrap;\n",
              "      gap: 12px;\n",
              "    }\n",
              "\n",
              "    .colab-df-convert {\n",
              "      background-color: #E8F0FE;\n",
              "      border: none;\n",
              "      border-radius: 50%;\n",
              "      cursor: pointer;\n",
              "      display: none;\n",
              "      fill: #1967D2;\n",
              "      height: 32px;\n",
              "      padding: 0 0 0 0;\n",
              "      width: 32px;\n",
              "    }\n",
              "\n",
              "    .colab-df-convert:hover {\n",
              "      background-color: #E2EBFA;\n",
              "      box-shadow: 0px 1px 2px rgba(60, 64, 67, 0.3), 0px 1px 3px 1px rgba(60, 64, 67, 0.15);\n",
              "      fill: #174EA6;\n",
              "    }\n",
              "\n",
              "    [theme=dark] .colab-df-convert {\n",
              "      background-color: #3B4455;\n",
              "      fill: #D2E3FC;\n",
              "    }\n",
              "\n",
              "    [theme=dark] .colab-df-convert:hover {\n",
              "      background-color: #434B5C;\n",
              "      box-shadow: 0px 1px 3px 1px rgba(0, 0, 0, 0.15);\n",
              "      filter: drop-shadow(0px 1px 2px rgba(0, 0, 0, 0.3));\n",
              "      fill: #FFFFFF;\n",
              "    }\n",
              "  </style>\n",
              "\n",
              "      <script>\n",
              "        const buttonEl =\n",
              "          document.querySelector('#df-395ce26c-0c13-4bb2-8278-a61b41ca37cc button.colab-df-convert');\n",
              "        buttonEl.style.display =\n",
              "          google.colab.kernel.accessAllowed ? 'block' : 'none';\n",
              "\n",
              "        async function convertToInteractive(key) {\n",
              "          const element = document.querySelector('#df-395ce26c-0c13-4bb2-8278-a61b41ca37cc');\n",
              "          const dataTable =\n",
              "            await google.colab.kernel.invokeFunction('convertToInteractive',\n",
              "                                                     [key], {});\n",
              "          if (!dataTable) return;\n",
              "\n",
              "          const docLinkHtml = 'Like what you see? Visit the ' +\n",
              "            '<a target=\"_blank\" href=https://colab.research.google.com/notebooks/data_table.ipynb>data table notebook</a>'\n",
              "            + ' to learn more about interactive tables.';\n",
              "          element.innerHTML = '';\n",
              "          dataTable['output_type'] = 'display_data';\n",
              "          await google.colab.output.renderOutput(dataTable, element);\n",
              "          const docLink = document.createElement('div');\n",
              "          docLink.innerHTML = docLinkHtml;\n",
              "          element.appendChild(docLink);\n",
              "        }\n",
              "      </script>\n",
              "    </div>\n",
              "  </div>\n",
              "  "
            ]
          },
          "metadata": {},
          "execution_count": 12
        }
      ]
    },
    {
      "cell_type": "code",
      "source": [
        "print (\"Total number of rows in dataset = {}\".format(df.shape[0]))\n",
        "print (\"Total number of columns in dataset = {}\".format(df.shape[1]))"
      ],
      "metadata": {
        "colab": {
          "base_uri": "https://localhost:8080/"
        },
        "id": "1Hu_rMfxtjmY",
        "outputId": "aceca675-1606-47a1-d373-6925d3d260e2"
      },
      "execution_count": null,
      "outputs": [
        {
          "output_type": "stream",
          "name": "stdout",
          "text": [
            "Total number of rows in dataset = 614\n",
            "Total number of columns in dataset = 6\n"
          ]
        }
      ]
    },
    {
      "cell_type": "code",
      "source": [
        "result = resumetable(df)\n",
        "result"
      ],
      "metadata": {
        "colab": {
          "base_uri": "https://localhost:8080/",
          "height": 255
        },
        "id": "_KU8AZjBuRKs",
        "outputId": "eb3cf7c2-5551-4ec3-eea9-3ac8933b5757"
      },
      "execution_count": null,
      "outputs": [
        {
          "output_type": "stream",
          "name": "stdout",
          "text": [
            "Dataset Shape: (614, 6)\n"
          ]
        },
        {
          "output_type": "execute_result",
          "data": {
            "text/plain": [
              "                Name   dtypes  Missing  Uniques First Value Second Value\n",
              "0    ApplicantIncome  float64        2      503      5849.0       4583.0\n",
              "1  CoapplicantIncome  float64        2      287         0.0       1508.0\n",
              "2         LoanAmount  float64        3      203         0.0        128.0\n",
              "3   Loan_Amount_Term  float64        2       11       360.0        360.0\n",
              "4     Credit_History   object        0        2         Yes          Yes\n",
              "5        Loan_Status    int64        0        2           1            0"
            ],
            "text/html": [
              "\n",
              "  <div id=\"df-4b7b8806-2793-4ca4-bd9d-c0b7e194b493\">\n",
              "    <div class=\"colab-df-container\">\n",
              "      <div>\n",
              "<style scoped>\n",
              "    .dataframe tbody tr th:only-of-type {\n",
              "        vertical-align: middle;\n",
              "    }\n",
              "\n",
              "    .dataframe tbody tr th {\n",
              "        vertical-align: top;\n",
              "    }\n",
              "\n",
              "    .dataframe thead th {\n",
              "        text-align: right;\n",
              "    }\n",
              "</style>\n",
              "<table border=\"1\" class=\"dataframe\">\n",
              "  <thead>\n",
              "    <tr style=\"text-align: right;\">\n",
              "      <th></th>\n",
              "      <th>Name</th>\n",
              "      <th>dtypes</th>\n",
              "      <th>Missing</th>\n",
              "      <th>Uniques</th>\n",
              "      <th>First Value</th>\n",
              "      <th>Second Value</th>\n",
              "    </tr>\n",
              "  </thead>\n",
              "  <tbody>\n",
              "    <tr>\n",
              "      <th>0</th>\n",
              "      <td>ApplicantIncome</td>\n",
              "      <td>float64</td>\n",
              "      <td>2</td>\n",
              "      <td>503</td>\n",
              "      <td>5849.0</td>\n",
              "      <td>4583.0</td>\n",
              "    </tr>\n",
              "    <tr>\n",
              "      <th>1</th>\n",
              "      <td>CoapplicantIncome</td>\n",
              "      <td>float64</td>\n",
              "      <td>2</td>\n",
              "      <td>287</td>\n",
              "      <td>0.0</td>\n",
              "      <td>1508.0</td>\n",
              "    </tr>\n",
              "    <tr>\n",
              "      <th>2</th>\n",
              "      <td>LoanAmount</td>\n",
              "      <td>float64</td>\n",
              "      <td>3</td>\n",
              "      <td>203</td>\n",
              "      <td>0.0</td>\n",
              "      <td>128.0</td>\n",
              "    </tr>\n",
              "    <tr>\n",
              "      <th>3</th>\n",
              "      <td>Loan_Amount_Term</td>\n",
              "      <td>float64</td>\n",
              "      <td>2</td>\n",
              "      <td>11</td>\n",
              "      <td>360.0</td>\n",
              "      <td>360.0</td>\n",
              "    </tr>\n",
              "    <tr>\n",
              "      <th>4</th>\n",
              "      <td>Credit_History</td>\n",
              "      <td>object</td>\n",
              "      <td>0</td>\n",
              "      <td>2</td>\n",
              "      <td>Yes</td>\n",
              "      <td>Yes</td>\n",
              "    </tr>\n",
              "    <tr>\n",
              "      <th>5</th>\n",
              "      <td>Loan_Status</td>\n",
              "      <td>int64</td>\n",
              "      <td>0</td>\n",
              "      <td>2</td>\n",
              "      <td>1</td>\n",
              "      <td>0</td>\n",
              "    </tr>\n",
              "  </tbody>\n",
              "</table>\n",
              "</div>\n",
              "      <button class=\"colab-df-convert\" onclick=\"convertToInteractive('df-4b7b8806-2793-4ca4-bd9d-c0b7e194b493')\"\n",
              "              title=\"Convert this dataframe to an interactive table.\"\n",
              "              style=\"display:none;\">\n",
              "        \n",
              "  <svg xmlns=\"http://www.w3.org/2000/svg\" height=\"24px\"viewBox=\"0 0 24 24\"\n",
              "       width=\"24px\">\n",
              "    <path d=\"M0 0h24v24H0V0z\" fill=\"none\"/>\n",
              "    <path d=\"M18.56 5.44l.94 2.06.94-2.06 2.06-.94-2.06-.94-.94-2.06-.94 2.06-2.06.94zm-11 1L8.5 8.5l.94-2.06 2.06-.94-2.06-.94L8.5 2.5l-.94 2.06-2.06.94zm10 10l.94 2.06.94-2.06 2.06-.94-2.06-.94-.94-2.06-.94 2.06-2.06.94z\"/><path d=\"M17.41 7.96l-1.37-1.37c-.4-.4-.92-.59-1.43-.59-.52 0-1.04.2-1.43.59L10.3 9.45l-7.72 7.72c-.78.78-.78 2.05 0 2.83L4 21.41c.39.39.9.59 1.41.59.51 0 1.02-.2 1.41-.59l7.78-7.78 2.81-2.81c.8-.78.8-2.07 0-2.86zM5.41 20L4 18.59l7.72-7.72 1.47 1.35L5.41 20z\"/>\n",
              "  </svg>\n",
              "      </button>\n",
              "      \n",
              "  <style>\n",
              "    .colab-df-container {\n",
              "      display:flex;\n",
              "      flex-wrap:wrap;\n",
              "      gap: 12px;\n",
              "    }\n",
              "\n",
              "    .colab-df-convert {\n",
              "      background-color: #E8F0FE;\n",
              "      border: none;\n",
              "      border-radius: 50%;\n",
              "      cursor: pointer;\n",
              "      display: none;\n",
              "      fill: #1967D2;\n",
              "      height: 32px;\n",
              "      padding: 0 0 0 0;\n",
              "      width: 32px;\n",
              "    }\n",
              "\n",
              "    .colab-df-convert:hover {\n",
              "      background-color: #E2EBFA;\n",
              "      box-shadow: 0px 1px 2px rgba(60, 64, 67, 0.3), 0px 1px 3px 1px rgba(60, 64, 67, 0.15);\n",
              "      fill: #174EA6;\n",
              "    }\n",
              "\n",
              "    [theme=dark] .colab-df-convert {\n",
              "      background-color: #3B4455;\n",
              "      fill: #D2E3FC;\n",
              "    }\n",
              "\n",
              "    [theme=dark] .colab-df-convert:hover {\n",
              "      background-color: #434B5C;\n",
              "      box-shadow: 0px 1px 3px 1px rgba(0, 0, 0, 0.15);\n",
              "      filter: drop-shadow(0px 1px 2px rgba(0, 0, 0, 0.3));\n",
              "      fill: #FFFFFF;\n",
              "    }\n",
              "  </style>\n",
              "\n",
              "      <script>\n",
              "        const buttonEl =\n",
              "          document.querySelector('#df-4b7b8806-2793-4ca4-bd9d-c0b7e194b493 button.colab-df-convert');\n",
              "        buttonEl.style.display =\n",
              "          google.colab.kernel.accessAllowed ? 'block' : 'none';\n",
              "\n",
              "        async function convertToInteractive(key) {\n",
              "          const element = document.querySelector('#df-4b7b8806-2793-4ca4-bd9d-c0b7e194b493');\n",
              "          const dataTable =\n",
              "            await google.colab.kernel.invokeFunction('convertToInteractive',\n",
              "                                                     [key], {});\n",
              "          if (!dataTable) return;\n",
              "\n",
              "          const docLinkHtml = 'Like what you see? Visit the ' +\n",
              "            '<a target=\"_blank\" href=https://colab.research.google.com/notebooks/data_table.ipynb>data table notebook</a>'\n",
              "            + ' to learn more about interactive tables.';\n",
              "          element.innerHTML = '';\n",
              "          dataTable['output_type'] = 'display_data';\n",
              "          await google.colab.output.renderOutput(dataTable, element);\n",
              "          const docLink = document.createElement('div');\n",
              "          docLink.innerHTML = docLinkHtml;\n",
              "          element.appendChild(docLink);\n",
              "        }\n",
              "      </script>\n",
              "    </div>\n",
              "  </div>\n",
              "  "
            ]
          },
          "metadata": {},
          "execution_count": 16
        }
      ]
    },
    {
      "cell_type": "code",
      "source": [
        "target_col = \"Loan_Status\"\n",
        "X = df.loc[:, df.columns != target_col]\n",
        "y = df.loc[:, target_col]"
      ],
      "metadata": {
        "id": "0OuDnBoMuIIN"
      },
      "execution_count": null,
      "outputs": []
    },
    {
      "cell_type": "code",
      "source": [
        "X_train, X_test, y_train, y_test = train_test_split(X, y,\n",
        "                                                   test_size=0.33,\n",
        "                                                   random_state=42)\n",
        "X_train.head()"
      ],
      "metadata": {
        "colab": {
          "base_uri": "https://localhost:8080/",
          "height": 206
        },
        "id": "p0-UzQllwF9l",
        "outputId": "9353b4c6-cf89-429b-bbc7-377f748b720a"
      },
      "execution_count": null,
      "outputs": [
        {
          "output_type": "execute_result",
          "data": {
            "text/plain": [
              "     ApplicantIncome  CoapplicantIncome  ...  Loan_Amount_Term  Credit_History\n",
              "244           3406.0             4417.0  ...             360.0             Yes\n",
              "393           1993.0             1625.0  ...             180.0             Yes\n",
              "310           2917.0                0.0  ...             360.0             Yes\n",
              "408           8300.0                0.0  ...             300.0              No\n",
              "572          16666.0                0.0  ...             360.0             Yes\n",
              "\n",
              "[5 rows x 5 columns]"
            ],
            "text/html": [
              "\n",
              "  <div id=\"df-5bc5461d-25dc-4c1d-a450-91a7ec4886d0\">\n",
              "    <div class=\"colab-df-container\">\n",
              "      <div>\n",
              "<style scoped>\n",
              "    .dataframe tbody tr th:only-of-type {\n",
              "        vertical-align: middle;\n",
              "    }\n",
              "\n",
              "    .dataframe tbody tr th {\n",
              "        vertical-align: top;\n",
              "    }\n",
              "\n",
              "    .dataframe thead th {\n",
              "        text-align: right;\n",
              "    }\n",
              "</style>\n",
              "<table border=\"1\" class=\"dataframe\">\n",
              "  <thead>\n",
              "    <tr style=\"text-align: right;\">\n",
              "      <th></th>\n",
              "      <th>ApplicantIncome</th>\n",
              "      <th>CoapplicantIncome</th>\n",
              "      <th>LoanAmount</th>\n",
              "      <th>Loan_Amount_Term</th>\n",
              "      <th>Credit_History</th>\n",
              "    </tr>\n",
              "  </thead>\n",
              "  <tbody>\n",
              "    <tr>\n",
              "      <th>244</th>\n",
              "      <td>3406.0</td>\n",
              "      <td>4417.0</td>\n",
              "      <td>123.0</td>\n",
              "      <td>360.0</td>\n",
              "      <td>Yes</td>\n",
              "    </tr>\n",
              "    <tr>\n",
              "      <th>393</th>\n",
              "      <td>1993.0</td>\n",
              "      <td>1625.0</td>\n",
              "      <td>113.0</td>\n",
              "      <td>180.0</td>\n",
              "      <td>Yes</td>\n",
              "    </tr>\n",
              "    <tr>\n",
              "      <th>310</th>\n",
              "      <td>2917.0</td>\n",
              "      <td>0.0</td>\n",
              "      <td>84.0</td>\n",
              "      <td>360.0</td>\n",
              "      <td>Yes</td>\n",
              "    </tr>\n",
              "    <tr>\n",
              "      <th>408</th>\n",
              "      <td>8300.0</td>\n",
              "      <td>0.0</td>\n",
              "      <td>152.0</td>\n",
              "      <td>300.0</td>\n",
              "      <td>No</td>\n",
              "    </tr>\n",
              "    <tr>\n",
              "      <th>572</th>\n",
              "      <td>16666.0</td>\n",
              "      <td>0.0</td>\n",
              "      <td>275.0</td>\n",
              "      <td>360.0</td>\n",
              "      <td>Yes</td>\n",
              "    </tr>\n",
              "  </tbody>\n",
              "</table>\n",
              "</div>\n",
              "      <button class=\"colab-df-convert\" onclick=\"convertToInteractive('df-5bc5461d-25dc-4c1d-a450-91a7ec4886d0')\"\n",
              "              title=\"Convert this dataframe to an interactive table.\"\n",
              "              style=\"display:none;\">\n",
              "        \n",
              "  <svg xmlns=\"http://www.w3.org/2000/svg\" height=\"24px\"viewBox=\"0 0 24 24\"\n",
              "       width=\"24px\">\n",
              "    <path d=\"M0 0h24v24H0V0z\" fill=\"none\"/>\n",
              "    <path d=\"M18.56 5.44l.94 2.06.94-2.06 2.06-.94-2.06-.94-.94-2.06-.94 2.06-2.06.94zm-11 1L8.5 8.5l.94-2.06 2.06-.94-2.06-.94L8.5 2.5l-.94 2.06-2.06.94zm10 10l.94 2.06.94-2.06 2.06-.94-2.06-.94-.94-2.06-.94 2.06-2.06.94z\"/><path d=\"M17.41 7.96l-1.37-1.37c-.4-.4-.92-.59-1.43-.59-.52 0-1.04.2-1.43.59L10.3 9.45l-7.72 7.72c-.78.78-.78 2.05 0 2.83L4 21.41c.39.39.9.59 1.41.59.51 0 1.02-.2 1.41-.59l7.78-7.78 2.81-2.81c.8-.78.8-2.07 0-2.86zM5.41 20L4 18.59l7.72-7.72 1.47 1.35L5.41 20z\"/>\n",
              "  </svg>\n",
              "      </button>\n",
              "      \n",
              "  <style>\n",
              "    .colab-df-container {\n",
              "      display:flex;\n",
              "      flex-wrap:wrap;\n",
              "      gap: 12px;\n",
              "    }\n",
              "\n",
              "    .colab-df-convert {\n",
              "      background-color: #E8F0FE;\n",
              "      border: none;\n",
              "      border-radius: 50%;\n",
              "      cursor: pointer;\n",
              "      display: none;\n",
              "      fill: #1967D2;\n",
              "      height: 32px;\n",
              "      padding: 0 0 0 0;\n",
              "      width: 32px;\n",
              "    }\n",
              "\n",
              "    .colab-df-convert:hover {\n",
              "      background-color: #E2EBFA;\n",
              "      box-shadow: 0px 1px 2px rgba(60, 64, 67, 0.3), 0px 1px 3px 1px rgba(60, 64, 67, 0.15);\n",
              "      fill: #174EA6;\n",
              "    }\n",
              "\n",
              "    [theme=dark] .colab-df-convert {\n",
              "      background-color: #3B4455;\n",
              "      fill: #D2E3FC;\n",
              "    }\n",
              "\n",
              "    [theme=dark] .colab-df-convert:hover {\n",
              "      background-color: #434B5C;\n",
              "      box-shadow: 0px 1px 3px 1px rgba(0, 0, 0, 0.15);\n",
              "      filter: drop-shadow(0px 1px 2px rgba(0, 0, 0, 0.3));\n",
              "      fill: #FFFFFF;\n",
              "    }\n",
              "  </style>\n",
              "\n",
              "      <script>\n",
              "        const buttonEl =\n",
              "          document.querySelector('#df-5bc5461d-25dc-4c1d-a450-91a7ec4886d0 button.colab-df-convert');\n",
              "        buttonEl.style.display =\n",
              "          google.colab.kernel.accessAllowed ? 'block' : 'none';\n",
              "\n",
              "        async function convertToInteractive(key) {\n",
              "          const element = document.querySelector('#df-5bc5461d-25dc-4c1d-a450-91a7ec4886d0');\n",
              "          const dataTable =\n",
              "            await google.colab.kernel.invokeFunction('convertToInteractive',\n",
              "                                                     [key], {});\n",
              "          if (!dataTable) return;\n",
              "\n",
              "          const docLinkHtml = 'Like what you see? Visit the ' +\n",
              "            '<a target=\"_blank\" href=https://colab.research.google.com/notebooks/data_table.ipynb>data table notebook</a>'\n",
              "            + ' to learn more about interactive tables.';\n",
              "          element.innerHTML = '';\n",
              "          dataTable['output_type'] = 'display_data';\n",
              "          await google.colab.output.renderOutput(dataTable, element);\n",
              "          const docLink = document.createElement('div');\n",
              "          docLink.innerHTML = docLinkHtml;\n",
              "          element.appendChild(docLink);\n",
              "        }\n",
              "      </script>\n",
              "    </div>\n",
              "  </div>\n",
              "  "
            ]
          },
          "metadata": {},
          "execution_count": 23
        }
      ]
    },
    {
      "cell_type": "code",
      "source": [
        "features = list(X_train.columns)\n",
        "cat_features = [\"Credit_History\"]\n",
        "model_cb = CatBoostClassifier(task_type = \"GPU\",\n",
        "                              iterations=100,\n",
        "                              random_state=2021,\n",
        "                              eval_metric=\"F1\")\n",
        "model_cb.fit(X_train, y_train, cat_features = cat_features, plot = True)"
      ],
      "metadata": {
        "colab": {
          "base_uri": "https://localhost:8080/",
          "height": 1000,
          "referenced_widgets": [
            "39b704bf02d04237ac9a2b2a83ecc5d9"
          ]
        },
        "id": "1c3L6pxpwTnE",
        "outputId": "ee29ae4a-5ead-455e-9f7e-abe84b8d65ac"
      },
      "execution_count": null,
      "outputs": [
        {
          "output_type": "display_data",
          "data": {
            "text/plain": [
              "MetricVisualizer(layout=Layout(align_self='stretch', height='500px'))"
            ],
            "application/vnd.jupyter.widget-view+json": {
              "version_major": 2,
              "version_minor": 0,
              "model_id": "39b704bf02d04237ac9a2b2a83ecc5d9"
            }
          },
          "metadata": {}
        },
        {
          "output_type": "stream",
          "name": "stdout",
          "text": [
            "Learning rate set to 0.27862\n",
            "0:\tlearn: 0.8571429\ttotal: 4.3ms\tremaining: 426ms\n",
            "1:\tlearn: 0.8553259\ttotal: 7.21ms\tremaining: 353ms\n",
            "2:\tlearn: 0.8562300\ttotal: 10.5ms\tremaining: 340ms\n",
            "3:\tlearn: 0.8576000\ttotal: 13.6ms\tremaining: 327ms\n",
            "4:\tlearn: 0.8557692\ttotal: 16.9ms\tremaining: 320ms\n",
            "5:\tlearn: 0.8539326\ttotal: 19.1ms\tremaining: 299ms\n",
            "6:\tlearn: 0.8539326\ttotal: 22.3ms\tremaining: 296ms\n",
            "7:\tlearn: 0.8483871\ttotal: 24.8ms\tremaining: 285ms\n",
            "8:\tlearn: 0.8539326\ttotal: 28.1ms\tremaining: 284ms\n",
            "9:\tlearn: 0.8576000\ttotal: 31ms\tremaining: 279ms\n",
            "10:\tlearn: 0.8562300\ttotal: 34.2ms\tremaining: 277ms\n",
            "11:\tlearn: 0.8566879\ttotal: 37.4ms\tremaining: 275ms\n",
            "12:\tlearn: 0.8566879\ttotal: 40.7ms\tremaining: 272ms\n",
            "13:\tlearn: 0.8566879\ttotal: 43.9ms\tremaining: 270ms\n",
            "14:\tlearn: 0.8566879\ttotal: 47.2ms\tremaining: 267ms\n",
            "15:\tlearn: 0.8566879\ttotal: 50.3ms\tremaining: 264ms\n",
            "16:\tlearn: 0.8548644\ttotal: 53.5ms\tremaining: 261ms\n",
            "17:\tlearn: 0.8548644\ttotal: 56.8ms\tremaining: 259ms\n",
            "18:\tlearn: 0.8548644\ttotal: 60.4ms\tremaining: 257ms\n",
            "19:\tlearn: 0.8580542\ttotal: 64ms\tremaining: 256ms\n",
            "20:\tlearn: 0.8634921\ttotal: 67.9ms\tremaining: 255ms\n",
            "21:\tlearn: 0.8630573\ttotal: 71.9ms\tremaining: 255ms\n",
            "22:\tlearn: 0.8684628\ttotal: 75.9ms\tremaining: 254ms\n",
            "23:\tlearn: 0.8684628\ttotal: 86.7ms\tremaining: 275ms\n",
            "24:\tlearn: 0.8612440\ttotal: 104ms\tremaining: 312ms\n",
            "25:\tlearn: 0.8666667\ttotal: 110ms\tremaining: 313ms\n",
            "26:\tlearn: 0.8694268\ttotal: 114ms\tremaining: 309ms\n",
            "27:\tlearn: 0.8698413\ttotal: 118ms\tremaining: 303ms\n",
            "28:\tlearn: 0.8662420\ttotal: 121ms\tremaining: 297ms\n",
            "29:\tlearn: 0.8698413\ttotal: 125ms\tremaining: 292ms\n",
            "30:\tlearn: 0.8748019\ttotal: 128ms\tremaining: 286ms\n",
            "31:\tlearn: 0.8738170\ttotal: 132ms\tremaining: 281ms\n",
            "32:\tlearn: 0.8734177\ttotal: 136ms\tremaining: 276ms\n",
            "33:\tlearn: 0.8751975\ttotal: 139ms\tremaining: 270ms\n",
            "34:\tlearn: 0.8751975\ttotal: 143ms\tremaining: 265ms\n",
            "35:\tlearn: 0.8769716\ttotal: 146ms\tremaining: 260ms\n",
            "36:\tlearn: 0.8765823\ttotal: 150ms\tremaining: 255ms\n",
            "37:\tlearn: 0.8765823\ttotal: 153ms\tremaining: 250ms\n",
            "38:\tlearn: 0.8789809\ttotal: 157ms\tremaining: 245ms\n",
            "39:\tlearn: 0.8789809\ttotal: 160ms\tremaining: 240ms\n",
            "40:\tlearn: 0.8807631\ttotal: 164ms\tremaining: 235ms\n",
            "41:\tlearn: 0.8839428\ttotal: 170ms\tremaining: 235ms\n",
            "42:\tlearn: 0.8853503\ttotal: 174ms\tremaining: 230ms\n",
            "43:\tlearn: 0.8881789\ttotal: 177ms\tremaining: 226ms\n",
            "44:\tlearn: 0.8881789\ttotal: 181ms\tremaining: 221ms\n",
            "45:\tlearn: 0.8896000\ttotal: 189ms\tremaining: 222ms\n",
            "46:\tlearn: 0.8913738\ttotal: 193ms\tremaining: 217ms\n",
            "47:\tlearn: 0.8928000\ttotal: 196ms\tremaining: 212ms\n",
            "48:\tlearn: 0.8928000\ttotal: 199ms\tremaining: 208ms\n",
            "49:\tlearn: 0.8913738\ttotal: 203ms\tremaining: 203ms\n",
            "50:\tlearn: 0.8942308\ttotal: 206ms\tremaining: 198ms\n",
            "51:\tlearn: 0.9006410\ttotal: 210ms\tremaining: 194ms\n",
            "52:\tlearn: 0.9020867\ttotal: 213ms\tremaining: 189ms\n",
            "53:\tlearn: 0.9035370\ttotal: 216ms\tremaining: 184ms\n",
            "54:\tlearn: 0.9020867\ttotal: 229ms\tremaining: 187ms\n",
            "55:\tlearn: 0.9049919\ttotal: 232ms\tremaining: 182ms\n",
            "56:\tlearn: 0.9064516\ttotal: 235ms\tremaining: 177ms\n",
            "57:\tlearn: 0.9079160\ttotal: 239ms\tremaining: 173ms\n",
            "58:\tlearn: 0.9093851\ttotal: 242ms\tremaining: 168ms\n",
            "59:\tlearn: 0.9093851\ttotal: 245ms\tremaining: 163ms\n",
            "60:\tlearn: 0.9111470\ttotal: 248ms\tremaining: 159ms\n",
            "61:\tlearn: 0.9111470\ttotal: 252ms\tremaining: 154ms\n",
            "62:\tlearn: 0.9108590\ttotal: 255ms\tremaining: 150ms\n",
            "63:\tlearn: 0.9158576\ttotal: 258ms\tremaining: 145ms\n",
            "64:\tlearn: 0.9143780\ttotal: 261ms\tremaining: 141ms\n",
            "65:\tlearn: 0.9155844\ttotal: 265ms\tremaining: 136ms\n",
            "66:\tlearn: 0.9138211\ttotal: 268ms\tremaining: 132ms\n",
            "67:\tlearn: 0.9155844\ttotal: 271ms\tremaining: 128ms\n",
            "68:\tlearn: 0.9173420\ttotal: 274ms\tremaining: 123ms\n",
            "69:\tlearn: 0.9138211\ttotal: 278ms\tremaining: 119ms\n",
            "70:\tlearn: 0.9173420\ttotal: 281ms\tremaining: 115ms\n",
            "71:\tlearn: 0.9141005\ttotal: 284ms\tremaining: 110ms\n",
            "72:\tlearn: 0.9155844\ttotal: 287ms\tremaining: 106ms\n",
            "73:\tlearn: 0.9155844\ttotal: 291ms\tremaining: 102ms\n",
            "74:\tlearn: 0.9155844\ttotal: 294ms\tremaining: 98ms\n",
            "75:\tlearn: 0.9173420\ttotal: 297ms\tremaining: 93.9ms\n",
            "76:\tlearn: 0.9173420\ttotal: 300ms\tremaining: 89.8ms\n",
            "77:\tlearn: 0.9220779\ttotal: 304ms\tremaining: 85.7ms\n",
            "78:\tlearn: 0.9190939\ttotal: 307ms\tremaining: 81.7ms\n",
            "79:\tlearn: 0.9190939\ttotal: 310ms\tremaining: 77.6ms\n",
            "80:\tlearn: 0.9225806\ttotal: 314ms\tremaining: 73.6ms\n",
            "81:\tlearn: 0.9225806\ttotal: 317ms\tremaining: 69.7ms\n",
            "82:\tlearn: 0.9240711\ttotal: 321ms\tremaining: 65.7ms\n",
            "83:\tlearn: 0.9270665\ttotal: 324ms\tremaining: 61.7ms\n",
            "84:\tlearn: 0.9270665\ttotal: 327ms\tremaining: 57.7ms\n",
            "85:\tlearn: 0.9285714\ttotal: 330ms\tremaining: 53.7ms\n",
            "86:\tlearn: 0.9285714\ttotal: 333ms\tremaining: 49.8ms\n",
            "87:\tlearn: 0.9303079\ttotal: 336ms\tremaining: 45.9ms\n",
            "88:\tlearn: 0.9285714\ttotal: 339ms\tremaining: 42ms\n",
            "89:\tlearn: 0.9285714\ttotal: 343ms\tremaining: 38.1ms\n",
            "90:\tlearn: 0.9303079\ttotal: 346ms\tremaining: 34.2ms\n",
            "91:\tlearn: 0.9303079\ttotal: 349ms\tremaining: 30.3ms\n",
            "92:\tlearn: 0.9268293\ttotal: 352ms\tremaining: 26.5ms\n",
            "93:\tlearn: 0.9303079\ttotal: 355ms\tremaining: 22.7ms\n",
            "94:\tlearn: 0.9335494\ttotal: 358ms\tremaining: 18.9ms\n",
            "95:\tlearn: 0.9350649\ttotal: 361ms\tremaining: 15.1ms\n",
            "96:\tlearn: 0.9333333\ttotal: 365ms\tremaining: 11.3ms\n",
            "97:\tlearn: 0.9333333\ttotal: 368ms\tremaining: 7.51ms\n",
            "98:\tlearn: 0.9333333\ttotal: 371ms\tremaining: 3.75ms\n",
            "99:\tlearn: 0.9333333\ttotal: 374ms\tremaining: 0us\n"
          ]
        },
        {
          "output_type": "execute_result",
          "data": {
            "text/plain": [
              "<catboost.core.CatBoostClassifier at 0x7f13ac5d7490>"
            ]
          },
          "metadata": {},
          "execution_count": 24
        }
      ]
    },
    {
      "cell_type": "code",
      "source": [
        "y_pred = model_cb.predict(X_test)\n",
        "f1_score(y_test, y_pred)\n"
      ],
      "metadata": {
        "colab": {
          "base_uri": "https://localhost:8080/"
        },
        "id": "LktdcVWhys-y",
        "outputId": "9b58ed32-c8b3-4abc-f288-650c9d4b2308"
      },
      "execution_count": null,
      "outputs": [
        {
          "output_type": "execute_result",
          "data": {
            "text/plain": [
              "0.8041958041958042"
            ]
          },
          "metadata": {},
          "execution_count": 26
        }
      ]
    },
    {
      "cell_type": "code",
      "source": [
        "accuracy_score(y_test, y_pred)"
      ],
      "metadata": {
        "colab": {
          "base_uri": "https://localhost:8080/"
        },
        "id": "p7NFvkyW-DRO",
        "outputId": "45af112c-8b00-466b-d7e4-02a1bc851940"
      },
      "execution_count": null,
      "outputs": [
        {
          "output_type": "execute_result",
          "data": {
            "text/plain": [
              "0.7241379310344828"
            ]
          },
          "metadata": {},
          "execution_count": 27
        }
      ]
    }
  ]
}